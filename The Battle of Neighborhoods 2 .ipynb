{
    "nbformat_minor": 1, 
    "cells": [
        {
            "source": "### Introduction / Business Plan ", 
            "cell_type": "markdown", 
            "metadata": {}
        }, 
        {
            "source": "#### There is a few group of Nigerians that have been presented with the opportunity of relocating to the City of Melbourne, Australia by August, 2020 and they are very excited about it because to them it is an opportunity of a lifetime.\n\n#### The group is made up of two classes of people; unskilled people and business people and both classes seems to a similar concern which is the problem. Both classes have never travelled out of Nigeria and they wished to know the kind of venues and places that are available in the city of Melbourne.\n\n#### For the unskilled people, this will help them know what kind of skills they might need to immediately acquire to help them secure jobs immediately, when they eventually get there. For the business class, knowing that environment will let know and prepare for the kind of business opportunities they can leverage on when they eventually move over there.", 
            "cell_type": "markdown", 
            "metadata": {}
        }, 
        {
            "execution_count": null, 
            "cell_type": "code", 
            "metadata": {}, 
            "outputs": [], 
            "source": ""
        }
    ], 
    "metadata": {
        "kernelspec": {
            "display_name": "Python 3.5", 
            "name": "python3", 
            "language": "python"
        }, 
        "language_info": {
            "mimetype": "text/x-python", 
            "nbconvert_exporter": "python", 
            "version": "3.5.5", 
            "name": "python", 
            "file_extension": ".py", 
            "pygments_lexer": "ipython3", 
            "codemirror_mode": {
                "version": 3, 
                "name": "ipython"
            }
        }
    }, 
    "nbformat": 4
}